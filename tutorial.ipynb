{
 "cells": [
  {
   "cell_type": "code",
   "execution_count": 2,
   "metadata": {},
   "outputs": [],
   "source": [
    "from quantumML.rest import MWRester"
   ]
  },
  {
   "cell_type": "code",
   "execution_count": 4,
   "metadata": {},
   "outputs": [
    {
     "data": {
      "text/plain": [
       "[1.7320956495978288e-09,\n",
       " 1.7320956495978274e-09,\n",
       " 1.6814056067898388e-09,\n",
       " 1.6814056067898446e-09,\n",
       " 1.681405606789842e-09,\n",
       " 1.6814056067898408e-09]"
      ]
     },
     "execution_count": 4,
     "metadata": {},
     "output_type": "execute_result"
    }
   ],
   "source": [
    "b=MWRester()\n"
   ]
  },
  {
   "cell_type": "markdown",
   "metadata": {},
   "source": [
    "# Queries\n",
    "- **band_gap_range**  \n",
    "Range of bandgaps in *eV* as a two valued list eg. [1.2, 3.1]  \n",
    "- **Formation_energy_range**  \n",
    "Range of formation energies in *meV* as two values list eg. [50, 150]\n",
    "- **elements**  \n",
    "List of elements contained in entry eg. ['Na', 'Cl']  \n",
    "note: this will return all entries that contain Na and Cl as well as any other element \n",
    "- **space_group_number**  \n",
    "integer of space group number eg. 5\n",
    "- **dimention**  \n",
    "integer of dimension of material eg. 2\n",
    "- **crystal_system**  \n",
    "crystal system as a string eg. 'Tetragonal'  \n"
   ]
  },
  {
   "cell_type": "code",
   "execution_count": 12,
   "metadata": {},
   "outputs": [
    {
     "name": "stdout",
     "output_type": "stream",
     "text": [
      "Help on method get_calculation in module quantumML.rest:\n",
      "\n",
      "get_calculation(band_gap_range=None, formation_energy_range=None, elements=[], space_group_number=None, dimension=None, crystal_system=None, name=None) method of quantumML.rest.MWRester instance\n",
      "    Method to that queries materialsweb database and returns a list of dictionaries of calculations that\n",
      "    fit the querries parameters. Additionally\n",
      "    Parameters:\n",
      "        band_gap_range (list): List of band gap range e.g. [min, max]\n",
      "        formation_energy_range (list): List of formation energy range e.g. [min, max]\n",
      "        elements (list): List of str of elements\n",
      "        space_group_number (int): space group number\n",
      "        dimension (int): dimension as int e.g. 1 2 3\n",
      "        crystal_system (str): name of crystal system\n",
      "        name (str): name of material e.g. MoS2\n",
      "    Returns:\n",
      "        results: List of results matching quire parameters\n",
      "\n"
     ]
    }
   ],
   "source": [
    "help(b.get_calculation)"
   ]
  },
  {
   "cell_type": "code",
   "execution_count": 5,
   "metadata": {},
   "outputs": [
    {
     "name": "stdout",
     "output_type": "stream",
     "text": [
      "<class 'quantumML.rest.MWRester'>\n",
      "Pd120S2\t\t\t BandGap = 1.1746 eV\t Formation Eneergy = 148.0 meV\n",
      "Ge120Se1\t\t BandGap = 1.2107 eV\t Formation Eneergy = 133.0 meV\n",
      "Pd120Se2\t\t BandGap = 1.3964 eV\t Formation Eneergy = 166.0 meV\n",
      "I220Pt1\t\t\t BandGap = 1.4215 eV\t Formation Eneergy = 135.0 meV\n",
      "I220Pd1\t\t\t BandGap = 1.1512 eV\t Formation Eneergy = 133.0 meV\n",
      "Br320Cr1\t\t BandGap = 1.4714 eV\t Formation Eneergy = 742.0 meV\n",
      "Cr120H120O2\t\t BandGap = 1.0072 eV\t Formation Eneergy = 179.0 meV\n",
      "Mo120O3\t\t\t BandGap = 1.1381 eV\t Formation Eneergy = 136.0 meV\n"
     ]
    }
   ],
   "source": [
    "d = b.get_calculation(band_gap_range=[1,1.5], formation_energy_range=[124,150])\n",
    "for d in b.results:\n",
    "    #print(d.keys())\n",
    "    if len(d['composition'].split('/')[-2].replace('%',''))< 8:\n",
    "        print(d['composition'].split('/')[-2].replace('%','')+'\\t\\t\\t BandGap = ' + \\\n",
    "              str(round(d['band_gap'],4))+' eV\\t Formation Eneergy = ' + str(d['formation_energy'])+ ' meV')\n",
    "    elif len(d['composition'].split('/')[-2].replace('%',''))< 16:\n",
    "        print(d['composition'].split('/')[-2].replace('%','')+'\\t\\t BandGap = ' + \\\n",
    "              str(round(d['band_gap'],4))+' eV\\t Formation Eneergy = ' + str(d['formation_energy'])+ ' meV')\n",
    "    else:\n",
    "        print(d['composition'].split('/')[-2].replace('%','')+'\\t BandGap = ' + \\\n",
    "              str(round(d['band_gap'],4))+' eV\\t Formation Eneergy = ' + str(d['formation_energy'])+ ' meV')\n"
   ]
  },
  {
   "cell_type": "markdown",
   "metadata": {},
   "source": [
    "# Write files"
   ]
  },
  {
   "cell_type": "code",
   "execution_count": 11,
   "metadata": {},
   "outputs": [
    {
     "name": "stdout",
     "output_type": "stream",
     "text": [
      "Help on method write in module quantumML.rest:\n",
      "\n",
      "write(index=0) method of quantumML.rest.MWRester instance\n",
      "    Writes INCAR, KPOINTS, POSCAR of entry to current directory\n",
      "    \n",
      "    Parameters:\n",
      "        index (int): index of entry to write files for\n",
      "\n",
      "Help on method write_all in module quantumML.rest:\n",
      "\n",
      "write_all() method of quantumML.rest.MWRester instance\n",
      "    Creates a directory named by composition for every entry in results. Then, Writes INCAR, KPOINTS,\n",
      "    POSCAR of entry to respective directory\n",
      "\n"
     ]
    }
   ],
   "source": [
    "help(b.write)\n",
    "#help(b.write_all)"
   ]
  },
  {
   "cell_type": "code",
   "execution_count": 6,
   "metadata": {},
   "outputs": [
    {
     "ename": "FileExistsError",
     "evalue": "[Errno 17] File exists: 'example'",
     "output_type": "error",
     "traceback": [
      "\u001b[0;31m---------------------------------------------------------------------------\u001b[0m",
      "\u001b[0;31mFileExistsError\u001b[0m                           Traceback (most recent call last)",
      "\u001b[0;32m<ipython-input-6-78693eba5c23>\u001b[0m in \u001b[0;36m<module>\u001b[0;34m\u001b[0m\n\u001b[1;32m      1\u001b[0m \u001b[0;32mimport\u001b[0m \u001b[0mos\u001b[0m\u001b[0;34m\u001b[0m\u001b[0;34m\u001b[0m\u001b[0m\n\u001b[0;32m----> 2\u001b[0;31m \u001b[0mos\u001b[0m\u001b[0;34m.\u001b[0m\u001b[0mmkdir\u001b[0m\u001b[0;34m(\u001b[0m\u001b[0;34m'example'\u001b[0m\u001b[0;34m)\u001b[0m\u001b[0;34m\u001b[0m\u001b[0;34m\u001b[0m\u001b[0m\n\u001b[0m\u001b[1;32m      3\u001b[0m \u001b[0mget_ipython\u001b[0m\u001b[0;34m(\u001b[0m\u001b[0;34m)\u001b[0m\u001b[0;34m.\u001b[0m\u001b[0mrun_line_magic\u001b[0m\u001b[0;34m(\u001b[0m\u001b[0;34m'cd'\u001b[0m\u001b[0;34m,\u001b[0m \u001b[0;34m'example'\u001b[0m\u001b[0;34m)\u001b[0m\u001b[0;34m\u001b[0m\u001b[0;34m\u001b[0m\u001b[0m\n\u001b[1;32m      4\u001b[0m \u001b[0mprint\u001b[0m\u001b[0;34m(\u001b[0m\u001b[0mtype\u001b[0m\u001b[0;34m(\u001b[0m\u001b[0mb\u001b[0m\u001b[0;34m)\u001b[0m\u001b[0;34m)\u001b[0m\u001b[0;34m\u001b[0m\u001b[0;34m\u001b[0m\u001b[0m\n\u001b[1;32m      5\u001b[0m \u001b[0mb\u001b[0m\u001b[0;34m.\u001b[0m\u001b[0mwrite_all\u001b[0m\u001b[0;34m(\u001b[0m\u001b[0;34m)\u001b[0m\u001b[0;34m\u001b[0m\u001b[0;34m\u001b[0m\u001b[0m\n",
      "\u001b[0;31mFileExistsError\u001b[0m: [Errno 17] File exists: 'example'"
     ]
    }
   ],
   "source": [
    "import os \n",
    "os.mkdir('example')\n",
    "%cd example\n",
    "print(type(b))\n",
    "b.write_all()\n",
    "%ls\n",
    "%cd .."
   ]
  },
  {
   "cell_type": "code",
   "execution_count": null,
   "metadata": {
    "scrolled": true
   },
   "outputs": [],
   "source": [
    "%cd ~/dev/mwinterface\n",
    "%pwd"
   ]
  },
  {
   "cell_type": "markdown",
   "metadata": {},
   "source": [
    "# Machine Learning"
   ]
  },
  {
   "cell_type": "code",
   "execution_count": 13,
   "metadata": {},
   "outputs": [
    {
     "data": {
      "text/plain": [
       "[1.7320956495978288e-09,\n",
       " 1.7320956495978274e-09,\n",
       " 1.6814056067898388e-09,\n",
       " 1.6814056067898446e-09,\n",
       " 1.681405606789842e-09,\n",
       " 1.6814056067898408e-09]"
      ]
     },
     "execution_count": 13,
     "metadata": {},
     "output_type": "execute_result"
    }
   ],
   "source": [
    "#Convert to list of pymatgen structures\n",
    "\n",
    "c = b.as_pymatgen_struc()"
   ]
  },
  {
   "cell_type": "code",
   "execution_count": 15,
   "metadata": {},
   "outputs": [
    {
     "ename": "TypeError",
     "evalue": "can only concatenate str (not \"dict\") to str",
     "output_type": "error",
     "traceback": [
      "\u001b[0;31m---------------------------------------------------------------------------\u001b[0m",
      "\u001b[0;31mTypeError\u001b[0m                                 Traceback (most recent call last)",
      "\u001b[0;32m<ipython-input-15-91bf5901155a>\u001b[0m in \u001b[0;36m<module>\u001b[0;34m\u001b[0m\n\u001b[1;32m      1\u001b[0m \u001b[0mMWRester\u001b[0m\u001b[0;34m(\u001b[0m\u001b[0;34m)\u001b[0m\u001b[0;34m.\u001b[0m\u001b[0mget_symmetry_functions_g2\u001b[0m\u001b[0;34m(\u001b[0m\u001b[0mc\u001b[0m\u001b[0;34m[\u001b[0m\u001b[0;36m0\u001b[0m\u001b[0;34m]\u001b[0m\u001b[0;34m)\u001b[0m\u001b[0;34m\u001b[0m\u001b[0;34m\u001b[0m\u001b[0m\n\u001b[0;32m----> 2\u001b[0;31m \u001b[0mb\u001b[0m\u001b[0;34m.\u001b[0m\u001b[0mget_soap\u001b[0m\u001b[0;34m(\u001b[0m\u001b[0mb\u001b[0m\u001b[0;34m.\u001b[0m\u001b[0mresults\u001b[0m\u001b[0;34m[\u001b[0m\u001b[0;36m0\u001b[0m\u001b[0;34m]\u001b[0m\u001b[0;34m)\u001b[0m\u001b[0;34m\u001b[0m\u001b[0;34m\u001b[0m\u001b[0m\n\u001b[0m",
      "\u001b[0;32m~/dev/quantumML/quantumML/rest.py\u001b[0m in \u001b[0;36mget_soap\u001b[0;34m(file, rcut, nmax, lmax)\u001b[0m\n\u001b[1;32m    234\u001b[0m     \u001b[0;34m@\u001b[0m\u001b[0mstaticmethod\u001b[0m\u001b[0;34m\u001b[0m\u001b[0;34m\u001b[0m\u001b[0m\n\u001b[1;32m    235\u001b[0m     \u001b[0;32mdef\u001b[0m \u001b[0mget_soap\u001b[0m\u001b[0;34m(\u001b[0m\u001b[0mfile\u001b[0m\u001b[0;34m,\u001b[0m \u001b[0mrcut\u001b[0m\u001b[0;34m=\u001b[0m\u001b[0;36m7\u001b[0m\u001b[0;34m,\u001b[0m \u001b[0mnmax\u001b[0m\u001b[0;34m=\u001b[0m\u001b[0;36m5\u001b[0m\u001b[0;34m,\u001b[0m \u001b[0mlmax\u001b[0m\u001b[0;34m=\u001b[0m\u001b[0;36m8\u001b[0m\u001b[0;34m)\u001b[0m\u001b[0;34m:\u001b[0m\u001b[0;34m\u001b[0m\u001b[0;34m\u001b[0m\u001b[0m\n\u001b[0;32m--> 236\u001b[0;31m         \u001b[0mprint\u001b[0m\u001b[0;34m(\u001b[0m\u001b[0;34m'./'\u001b[0m \u001b[0;34m+\u001b[0m \u001b[0mfile\u001b[0m\u001b[0;34m)\u001b[0m\u001b[0;34m\u001b[0m\u001b[0;34m\u001b[0m\u001b[0m\n\u001b[0m\u001b[1;32m    237\u001b[0m         \u001b[0mml\u001b[0m\u001b[0;34m=\u001b[0m\u001b[0mvasp\u001b[0m\u001b[0;34m.\u001b[0m\u001b[0mread_vasp\u001b[0m\u001b[0;34m(\u001b[0m\u001b[0;34m'./'\u001b[0m\u001b[0;34m+\u001b[0m\u001b[0mfile\u001b[0m\u001b[0;34m)\u001b[0m\u001b[0;34m\u001b[0m\u001b[0;34m\u001b[0m\u001b[0m\n\u001b[1;32m    238\u001b[0m         \u001b[0mspecies\u001b[0m\u001b[0;34m=\u001b[0m\u001b[0;34m[\u001b[0m\u001b[0;34m'Cd'\u001b[0m\u001b[0;34m,\u001b[0m\u001b[0;34m'Te'\u001b[0m\u001b[0;34m]\u001b[0m\u001b[0;34m\u001b[0m\u001b[0;34m\u001b[0m\u001b[0m\n",
      "\u001b[0;31mTypeError\u001b[0m: can only concatenate str (not \"dict\") to str"
     ]
    }
   ],
   "source": [
    "MWRester().get_symmetry_functions_g2(c[0])\n",
    "b.get_soap(b.results[0])"
   ]
  },
  {
   "cell_type": "code",
   "execution_count": 17,
   "metadata": {},
   "outputs": [
    {
     "name": "stdout",
     "output_type": "stream",
     "text": [
      "build  LICENSE\t  quantumML.egg-info  requirments.txt  tutorial.ipynb\r\n",
      "dist   quantumML  README.md\t      setup.py\t       Untitled.ipynb\r\n"
     ]
    }
   ],
   "source": [
    "!ls\n",
    "!mkdir temp"
   ]
  },
  {
   "cell_type": "code",
   "execution_count": 18,
   "metadata": {},
   "outputs": [],
   "source": [
    "!cd temp\n",
    "b.prep_ml_formation_energy(b.results[-1])"
   ]
  },
  {
   "cell_type": "code",
   "execution_count": 19,
   "metadata": {},
   "outputs": [
    {
     "name": "stdout",
     "output_type": "stream",
     "text": [
      "0.energy   12.energy  15.energy  18.energy  3.energy  6.energy\t9.energy\r\n",
      "0.poscar   12.poscar  15.poscar  18.poscar  3.poscar  6.poscar\t9.poscar\r\n",
      "10.energy  13.energy  16.energy  1.energy   4.energy  7.energy\tOsZICAR\r\n",
      "10.poscar  13.poscar  16.poscar  1.poscar   4.poscar  7.poscar\tXdATCAR\r\n",
      "11.energy  14.energy  17.energy  2.energy   5.energy  8.energy\r\n",
      "11.poscar  14.poscar  17.poscar  2.poscar   5.poscar  8.poscar\r\n"
     ]
    }
   ],
   "source": [
    "!ls"
   ]
  },
  {
   "cell_type": "code",
   "execution_count": 95,
   "metadata": {},
   "outputs": [],
   "source": [
    "def get_soap(calculation, rcut=7, nmax=5, lmax=8, fmt='MW'):\n",
    "    if fmt == 'MW':\n",
    "        urlp = 'http://2dmaterialsweb.org/' + calculation['path'][22:] + '/POSCAR'\n",
    "        file = urllib.request.urlopen(urlp)\n",
    "        file = file.read().decode(\"utf-8\")\n",
    "        file = io.StringIO(file)\n",
    "    elif fmt == 'poscar':\n",
    "        file = calculation\n",
    "    ml=vasp.read_vasp(file)\n",
    "    species=['Cd','Te']\n",
    "    periodic_soap = SOAP(\n",
    "    periodic=True,\n",
    "    species=np.unique(ml.get_atomic_numbers()),\n",
    "    rcut=rcut,\n",
    "    nmax=nmax,\n",
    "    lmax=lmax,\n",
    "    rbf='gto',\n",
    "    sigma=0.125,\n",
    "    average=True\n",
    "    )\n",
    "    soap = periodic_soap.create(ml)\n",
    "    #soap = 1\n",
    "    return soap"
   ]
  },
  {
   "cell_type": "code",
   "execution_count": 96,
   "metadata": {},
   "outputs": [
    {
     "data": {
      "text/plain": [
       "array([[ 3.23715732e-02,  4.29601129e-03,  3.62247764e-03,\n",
       "        -1.82748225e-03,  6.71045855e-03,  5.72189747e-04,\n",
       "         4.98028065e-04, -2.51956750e-04,  8.52994621e-04,\n",
       "         5.49888762e-04, -2.83340196e-04,  4.37105395e-04,\n",
       "         1.46175546e-04, -2.07636374e-04,  2.07245979e-03,\n",
       "         4.84641851e-06, -1.27033127e-05,  7.06361743e-06,\n",
       "         1.84710243e-05,  4.33171999e-06,  3.33478856e-05,\n",
       "        -1.84206419e-05, -4.91428691e-05, -1.06311736e-05,\n",
       "         1.28466208e-05,  2.68671120e-05, -5.54062217e-06,\n",
       "         8.16366737e-05, -1.23714744e-06,  8.77736602e-05,\n",
       "         3.66675499e-06, -1.02916611e-05,  1.22379970e-06,\n",
       "         2.65821218e-05,  1.30838416e-05,  2.95985719e-05,\n",
       "        -2.10575607e-07, -8.84286492e-05, -2.97435090e-05,\n",
       "         3.44540713e-05, -6.00897511e-05, -5.35784675e-05,\n",
       "         4.63482313e-04, -1.40571256e-05,  5.42705297e-04,\n",
       "         9.64503761e-06, -2.70058135e-05,  2.48923261e-05,\n",
       "         3.16124606e-05, -9.66213793e-06,  7.56741429e-05,\n",
       "        -6.91218374e-05, -9.06991554e-05,  2.65688941e-05,\n",
       "         7.20079042e-05,  6.03815461e-05, -5.38482309e-05,\n",
       "         1.85069744e-04, -1.66717527e-05,  2.91465927e-04,\n",
       "         9.80260393e-06, -2.98671821e-05,  9.10326435e-06,\n",
       "         9.09390874e-05,  1.50471815e-05,  9.10716190e-05,\n",
       "        -2.98527502e-05, -2.72738282e-04, -4.15273862e-05,\n",
       "         8.76571357e-05, -1.10217341e-04, -6.58928620e-05,\n",
       "         1.38881477e-03,  1.33679845e-04,  7.81549606e-04,\n",
       "         3.93317850e-06, -1.31974193e-05,  1.13604465e-05,\n",
       "         2.46390628e-05,  1.96970050e-05,  4.42838464e-05,\n",
       "        -3.81435202e-05, -8.24831004e-05, -6.65986154e-05,\n",
       "         3.51776180e-05,  5.89089941e-05,  5.83501424e-05,\n",
       "         2.23101233e-04,  7.70569095e-05,  3.92287882e-04,\n",
       "         9.88901502e-06, -3.43215252e-05,  2.65369872e-05,\n",
       "         7.39508760e-05,  2.30555906e-05,  1.19462427e-04,\n",
       "        -9.62377526e-05, -2.46481301e-04, -7.88522666e-05,\n",
       "         1.22132536e-04,  6.76820782e-05,  4.49022154e-05,\n",
       "         9.33395291e-04,  1.35925788e-04,  5.20507805e-04,\n",
       "         6.82522159e-06, -2.55094492e-05,  3.04267287e-05,\n",
       "         3.96629221e-05, -6.06366712e-06,  9.53563140e-05,\n",
       "        -1.13872091e-04, -1.47465224e-04,  2.03372656e-05,\n",
       "         1.37617128e-04,  1.65559861e-04, -4.79880646e-06,\n",
       "         2.97877996e-04, -1.40963020e-04,  4.18396317e-04,\n",
       "         1.38337018e-05, -5.01233844e-05,  3.98602715e-05,\n",
       "         1.39136173e-04,  1.13617671e-05,  1.82206393e-04,\n",
       "        -1.50557826e-04, -4.91329876e-04, -4.07692569e-05,\n",
       "         1.78648814e-04,  2.61313166e-04,  3.32478958e-05,\n",
       "         1.79483322e-03, -8.14170126e-05,  9.94265894e-04,\n",
       "         9.88841275e-05, -1.69444465e-04, -1.51689246e-03,\n",
       "         8.28184420e-04,  3.33690387e-03, -4.82786090e-05,\n",
       "        -2.27245386e-04,  1.22326834e-04,  4.22101148e-04,\n",
       "        -3.86549975e-04,  1.96475492e-04,  2.00085909e-04,\n",
       "        -1.03377817e-04, -9.38283847e-05,  1.06807693e-03,\n",
       "        -1.11789507e-06,  3.85529211e-06,  2.10962799e-06,\n",
       "        -1.90446608e-05,  9.30381702e-06, -1.02421809e-05,\n",
       "        -5.85760017e-06,  5.08380472e-05, -2.41480102e-05,\n",
       "         6.86801832e-06, -3.63391628e-05,  8.21634785e-06,\n",
       "        -9.15571072e-05,  2.88077554e-05,  4.39792784e-05,\n",
       "        -1.34835076e-07,  1.29675425e-06,  5.45435614e-06,\n",
       "        -1.96810961e-05,  4.60073943e-06, -4.04267348e-06,\n",
       "        -1.80838306e-05,  6.02913497e-05, -5.78513527e-06,\n",
       "        -1.50190617e-05,  2.63435122e-05, -1.25497036e-05,\n",
       "        -2.39934787e-04, -9.03096588e-05,  3.03077337e-04,\n",
       "         1.56148428e-06, -4.88107526e-06, -1.17794216e-05,\n",
       "         4.23148485e-05,  2.12147588e-05,  1.34595439e-05,\n",
       "         3.23455679e-05, -1.16627285e-04, -5.75797640e-05,\n",
       "        -3.74605479e-05,  1.31037465e-04,  6.88672881e-05,\n",
       "         7.21046817e-05,  2.37829499e-06,  8.10027871e-07,\n",
       "         5.78086429e-07, -1.66189113e-06, -7.72781641e-06,\n",
       "         3.19219980e-05, -3.48645972e-06,  5.38040558e-06,\n",
       "         2.33197934e-05, -9.73906353e-05,  9.76208958e-06,\n",
       "        -9.21427090e-06,  6.54294781e-05,  2.50111279e-05,\n",
       "         1.66864775e-04, -4.72203283e-05, -2.90629512e-04,\n",
       "        -8.70125234e-07,  2.65451945e-06,  6.60828164e-07,\n",
       "        -7.19779337e-06, -2.15807686e-05, -8.90979663e-06,\n",
       "        -2.20084098e-06,  2.40857262e-05,  7.24921192e-05,\n",
       "         7.35792582e-07, -1.12651860e-05, -6.03196058e-05,\n",
       "        -9.41099061e-05, -1.37391413e-04, -1.68202721e-04,\n",
       "         2.14798874e-07, -4.53069475e-07, -3.50737378e-06,\n",
       "         1.77633683e-05, -1.37300349e-05,  1.81691928e-06,\n",
       "         1.22419005e-05, -6.32167212e-05,  4.89446684e-05,\n",
       "        -1.10547044e-05,  7.82673524e-05, -4.90970815e-05,\n",
       "        -2.71395038e-06, -6.35600081e-05, -1.58841212e-04,\n",
       "         1.84624980e-06, -6.12501253e-06, -3.49358764e-08,\n",
       "         2.76939372e-05,  8.01980059e-06,  2.31484009e-05,\n",
       "         9.79807524e-08, -1.04503473e-04, -3.04815185e-05,\n",
       "         2.20026436e-07,  1.38783696e-04,  4.30497857e-05,\n",
       "         6.22966108e-05,  1.30691285e-06,  7.21932374e-05,\n",
       "        -1.16379226e-06,  4.33357127e-06, -5.30858097e-06,\n",
       "        -2.68811164e-07, -2.65211816e-06, -1.51036320e-05,\n",
       "         1.78165628e-05,  4.28455178e-06,  5.74495971e-06,\n",
       "        -6.40507380e-07, -3.09878669e-05,  3.29761715e-05,\n",
       "         1.71076681e-06, -1.19477561e-04, -1.73607259e-06,\n",
       "         1.61115080e-02,  2.27554352e-03,  2.28447095e-03,\n",
       "        -1.09341799e-03,  1.84020668e-03,  3.22430307e-04,\n",
       "         3.31326068e-04, -1.59161631e-04,  2.41062968e-04,\n",
       "         3.96319170e-04, -1.94521635e-04,  1.03647879e-04,\n",
       "         9.57387092e-05, -3.91144167e-05,  5.51836973e-04,\n",
       "         3.36497550e-07, -1.22598169e-06, -1.38661414e-06,\n",
       "         6.59144507e-06, -1.08295910e-06,  4.50871721e-06,\n",
       "         5.52937445e-06, -2.45665196e-05,  2.86328327e-06,\n",
       "         1.12423577e-05, -3.34162760e-05, -8.26293854e-06,\n",
       "         1.36354734e-04, -7.05456159e-06,  3.31262818e-05,\n",
       "         6.95324445e-07, -1.54988231e-06,  1.03576076e-06,\n",
       "        -1.88291540e-06,  8.38375581e-06,  3.97447548e-06,\n",
       "         1.50358039e-06, -6.43235626e-06, -1.99828846e-05,\n",
       "         3.26341433e-05, -8.13767765e-05, -1.35549099e-05,\n",
       "         2.22588642e-04,  7.01194949e-06,  1.91768471e-04,\n",
       "         5.57384396e-07, -1.75732021e-06, -4.14450869e-06,\n",
       "         1.55683865e-05,  5.96186737e-06,  5.55503220e-06,\n",
       "         1.32635041e-05, -4.98072732e-05, -1.85217632e-05,\n",
       "         3.62318278e-05, -1.28552143e-04, -5.41609515e-05,\n",
       "         4.74085682e-04,  1.67684440e-04,  1.35550057e-04,\n",
       "         2.03381910e-06, -5.99016994e-06,  4.06187746e-06,\n",
       "         1.04035769e-06,  2.29709822e-05,  1.76478352e-05,\n",
       "        -1.23277687e-05, -2.04613866e-06, -6.71922608e-05,\n",
       "         4.97010224e-05, -1.31708788e-04,  4.77862304e-05,\n",
       "         4.43412078e-04, -3.33906028e-05,  3.81259044e-04,\n",
       "         1.11419661e-06, -3.39956136e-06, -1.03036984e-06,\n",
       "         1.22162573e-05,  1.82926033e-05,  1.03761495e-05,\n",
       "         3.06292372e-06, -3.69158079e-05, -5.61831075e-05,\n",
       "         2.78780226e-06, -1.97747886e-05, -7.16026261e-06,\n",
       "         1.76725225e-04,  1.41766141e-04,  4.04438033e-04,\n",
       "         3.04155583e-06, -9.94909260e-06,  1.66820098e-06,\n",
       "         3.31500050e-05,  1.51492122e-05,  3.27155140e-05,\n",
       "        -7.94367679e-06, -9.91390843e-05, -5.34804603e-05,\n",
       "         3.69772533e-05, -1.16627634e-04,  6.52516464e-05,\n",
       "         8.69373500e-04, -6.79746445e-05,  2.64918810e-04,\n",
       "         2.59589910e-06, -8.71917200e-06,  1.30498483e-06,\n",
       "         3.33464559e-05,  1.63143577e-05,  2.93112807e-05,\n",
       "        -4.69993483e-06, -1.10610446e-04, -5.64692746e-05,\n",
       "         4.65236690e-06, -8.35761796e-07,  2.93096746e-05,\n",
       "         5.06941928e-04,  1.10831024e-04,  2.45610339e-04,\n",
       "         3.68975270e-06, -1.34513539e-05,  1.31699844e-05,\n",
       "         1.17423251e-05,  2.99593084e-05,  4.92423605e-05,\n",
       "        -5.05575408e-05, -3.27178896e-05, -1.13085051e-04,\n",
       "         7.87397657e-05, -8.38639753e-05,  1.54906142e-04,\n",
       "         5.37382963e-04, -1.05499465e-04,  3.96706775e-04]], dtype=float32)"
      ]
     },
     "execution_count": 96,
     "metadata": {},
     "output_type": "execute_result"
    }
   ],
   "source": [
    "get_soap( b.results[0])"
   ]
  },
  {
   "cell_type": "code",
   "execution_count": null,
   "metadata": {},
   "outputs": [],
   "source": []
  }
 ],
 "metadata": {
  "kernelspec": {
   "display_name": "Python 3",
   "language": "python",
   "name": "python3"
  },
  "language_info": {
   "codemirror_mode": {
    "name": "ipython",
    "version": 3
   },
   "file_extension": ".py",
   "mimetype": "text/x-python",
   "name": "python",
   "nbconvert_exporter": "python",
   "pygments_lexer": "ipython3",
   "version": "3.7.4"
  }
 },
 "nbformat": 4,
 "nbformat_minor": 2
}
