{
 "cells": [
  {
   "cell_type": "code",
   "execution_count": 1,
   "metadata": {},
   "outputs": [],
   "source": [
    "from quantumML.rest import MWRester"
   ]
  },
  {
   "cell_type": "code",
   "execution_count": 2,
   "metadata": {},
   "outputs": [],
   "source": [
    "mwr=MWRester()\n"
   ]
  },
  {
   "cell_type": "markdown",
   "metadata": {},
   "source": [
    "# Queries\n",
    "- **band_gap_range**  \n",
    "Range of bandgaps in *eV* as a two valued list eg. [1.2, 3.1]  \n",
    "- **Formation_energy_range**  \n",
    "Range of formation energies in *meV* as two values list eg. [50, 150]\n",
    "- **elements**  \n",
    "List of elements contained in entry eg. ['Na', 'Cl']  \n",
    "note: this will return all entries that contain Na and Cl as well as any other element \n",
    "- **space_group_number**  \n",
    "integer of space group number eg. 5\n",
    "- **dimention**  \n",
    "integer of dimension of material eg. 2\n",
    "- **crystal_system**  \n",
    "crystal system as a string eg. 'Tetragonal'  \n"
   ]
  },
  {
   "cell_type": "code",
   "execution_count": 3,
   "metadata": {},
   "outputs": [
    {
     "name": "stdout",
     "output_type": "stream",
     "text": [
      "Help on method get_calculation in module quantumML.rest:\n",
      "\n",
      "get_calculation(band_gap_range=None, formation_energy_range=None, elements=[], space_group_number=None, dimension=None, crystal_system=None, name=None) method of quantumML.rest.MWRester instance\n",
      "    Method to that queries materialsweb database and returns a list of dictionaries of calculations that\n",
      "    fit the querries parameters. Additionally\n",
      "    Parameters:\n",
      "        band_gap_range (list): List of band gap range e.g. [min, max]\n",
      "        formation_energy_range (list): List of formation energy range e.g. [min, max]\n",
      "        elements (list): List of str of elements\n",
      "        space_group_number (int): space group number\n",
      "        dimension (int): dimension as int e.g. 1 2 3\n",
      "        crystal_system (str): name of crystal system\n",
      "        name (str): name of material e.g. MoS2\n",
      "    Returns:\n",
      "        results: List of results matching quire parameters\n",
      "\n"
     ]
    }
   ],
   "source": [
    "help(mwr.get_calculation)"
   ]
  },
  {
   "cell_type": "code",
   "execution_count": 4,
   "metadata": {},
   "outputs": [
    {
     "name": "stdout",
     "output_type": "stream",
     "text": [
      "Pd120S2\t\t\t BandGap = 1.1746 eV\t Formation Eneergy = 148.0 meV\n",
      "Ge120Se1\t\t BandGap = 1.2107 eV\t Formation Eneergy = 133.0 meV\n",
      "Pd120Se2\t\t BandGap = 1.3964 eV\t Formation Eneergy = 166.0 meV\n",
      "I220Pt1\t\t\t BandGap = 1.4215 eV\t Formation Eneergy = 135.0 meV\n",
      "I220Pd1\t\t\t BandGap = 1.1512 eV\t Formation Eneergy = 133.0 meV\n",
      "Br320Cr1\t\t BandGap = 1.4714 eV\t Formation Eneergy = 742.0 meV\n",
      "Cr120H120O2\t\t BandGap = 1.0072 eV\t Formation Eneergy = 179.0 meV\n",
      "Mo120O3\t\t\t BandGap = 1.1381 eV\t Formation Eneergy = 136.0 meV\n"
     ]
    }
   ],
   "source": [
    "d = mwr.get_calculation(band_gap_range=[1,1.5], formation_energy_range=[124,150])\n",
    "for d in mwr.results:\n",
    "    #print(d.keys())\n",
    "    if len(d['composition'].split('/')[-2].replace('%',''))< 8:\n",
    "        print(d['composition'].split('/')[-2].replace('%','')+'\\t\\t\\t BandGap = ' + \\\n",
    "              str(round(d['band_gap'],4))+' eV\\t Formation Eneergy = ' + str(d['formation_energy'])+ ' meV')\n",
    "    elif len(d['composition'].split('/')[-2].replace('%',''))< 16:\n",
    "        print(d['composition'].split('/')[-2].replace('%','')+'\\t\\t BandGap = ' + \\\n",
    "              str(round(d['band_gap'],4))+' eV\\t Formation Eneergy = ' + str(d['formation_energy'])+ ' meV')\n",
    "    else:\n",
    "        print(d['composition'].split('/')[-2].replace('%','')+'\\t BandGap = ' + \\\n",
    "              str(round(d['band_gap'],4))+' eV\\t Formation Eneergy = ' + str(d['formation_energy'])+ ' meV')\n"
   ]
  },
  {
   "cell_type": "markdown",
   "metadata": {},
   "source": [
    "# Write files"
   ]
  },
  {
   "cell_type": "code",
   "execution_count": 5,
   "metadata": {},
   "outputs": [
    {
     "name": "stdout",
     "output_type": "stream",
     "text": [
      "Help on method write in module quantumML.rest:\n",
      "\n",
      "write(index=0) method of quantumML.rest.MWRester instance\n",
      "    Writes INCAR, KPOINTS, POSCAR of entry to current directory\n",
      "    \n",
      "    Parameters:\n",
      "        index (int): index of entry to write files for\n",
      "\n"
     ]
    }
   ],
   "source": [
    "help(mwr.write)\n",
    "#help(mwr.write_all)"
   ]
  },
  {
   "cell_type": "code",
   "execution_count": 6,
   "metadata": {},
   "outputs": [
    {
     "ename": "FileExistsError",
     "evalue": "[Errno 17] File exists: 'example'",
     "output_type": "error",
     "traceback": [
      "\u001b[0;31m---------------------------------------------------------------------------\u001b[0m",
      "\u001b[0;31mFileExistsError\u001b[0m                           Traceback (most recent call last)",
      "\u001b[0;32m<ipython-input-6-666026b8b1f4>\u001b[0m in \u001b[0;36m<module>\u001b[0;34m\u001b[0m\n\u001b[1;32m      1\u001b[0m \u001b[0;32mimport\u001b[0m \u001b[0mos\u001b[0m\u001b[0;34m\u001b[0m\u001b[0;34m\u001b[0m\u001b[0m\n\u001b[0;32m----> 2\u001b[0;31m \u001b[0mos\u001b[0m\u001b[0;34m.\u001b[0m\u001b[0mmkdir\u001b[0m\u001b[0;34m(\u001b[0m\u001b[0;34m'example'\u001b[0m\u001b[0;34m)\u001b[0m\u001b[0;34m\u001b[0m\u001b[0;34m\u001b[0m\u001b[0m\n\u001b[0m\u001b[1;32m      3\u001b[0m \u001b[0mget_ipython\u001b[0m\u001b[0;34m(\u001b[0m\u001b[0;34m)\u001b[0m\u001b[0;34m.\u001b[0m\u001b[0mrun_line_magic\u001b[0m\u001b[0;34m(\u001b[0m\u001b[0;34m'cd'\u001b[0m\u001b[0;34m,\u001b[0m \u001b[0;34m'example'\u001b[0m\u001b[0;34m)\u001b[0m\u001b[0;34m\u001b[0m\u001b[0;34m\u001b[0m\u001b[0m\n\u001b[1;32m      4\u001b[0m \u001b[0mmwr\u001b[0m\u001b[0;34m.\u001b[0m\u001b[0mwrite_all\u001b[0m\u001b[0;34m(\u001b[0m\u001b[0;34m)\u001b[0m\u001b[0;34m\u001b[0m\u001b[0;34m\u001b[0m\u001b[0m\n\u001b[1;32m      5\u001b[0m \u001b[0mget_ipython\u001b[0m\u001b[0;34m(\u001b[0m\u001b[0;34m)\u001b[0m\u001b[0;34m.\u001b[0m\u001b[0mrun_line_magic\u001b[0m\u001b[0;34m(\u001b[0m\u001b[0;34m'ls'\u001b[0m\u001b[0;34m,\u001b[0m \u001b[0;34m''\u001b[0m\u001b[0;34m)\u001b[0m\u001b[0;34m\u001b[0m\u001b[0;34m\u001b[0m\u001b[0m\n",
      "\u001b[0;31mFileExistsError\u001b[0m: [Errno 17] File exists: 'example'"
     ]
    }
   ],
   "source": [
    "import os \n",
    "os.mkdir('example')\n",
    "%cd example\n",
    "mwr.write_all()\n",
    "%ls\n",
    "%cd .."
   ]
  },
  {
   "cell_type": "code",
   "execution_count": null,
   "metadata": {
    "scrolled": true
   },
   "outputs": [],
   "source": [
    "%cd ~/dev/quantumML\n",
    "%pwd"
   ]
  },
  {
   "cell_type": "markdown",
   "metadata": {},
   "source": [
    "# Machine Learning"
   ]
  },
  {
   "cell_type": "code",
   "execution_count": null,
   "metadata": {},
   "outputs": [],
   "source": [
    "#Convert to list of pymatgen structures\n",
    "print(help(mwr.as_pymatgen_struc()))\n",
    "c = mwr.as_pymatgen_struc()"
   ]
  },
  {
   "cell_type": "code",
   "execution_count": null,
   "metadata": {},
   "outputs": [],
   "source": [
    "#mwr.get_symmetry_functions_g2(c[0])\n",
    "#b.get_soap(b.results[0])\n",
    "!ls"
   ]
  },
  {
   "cell_type": "markdown",
   "metadata": {},
   "source": [
    "Query materialsproject for all Cd-Te "
   ]
  },
  {
   "cell_type": "code",
   "execution_count": null,
   "metadata": {},
   "outputs": [],
   "source": [
    "from pymatgen import MPRester\n",
    "from pymatgen.analysis.phase_diagram import PhaseDiagram, PDPlotter\n",
    "import os\n",
    "from pymatgen.io.vasp import inputs\n",
    "os.mkdir('mldir')\n",
    "os.chdir('mldir')\n",
    "a = MPRester('7JGUQgNZyOTTp8Tc')\n",
    "entries = a.query('Li-Ge',properties = ['structure','formation_energy_per_atom'])\n",
    "#entries = a.query('Cd-Te',properties = ['formation_energy_per_atom'])\n",
    "formation_e_actual=[]\n",
    "i= 0 \n",
    "for d in entries:\n",
    "    d['structure'].to(fmt='poscar',filename=str(i)+'.poscar')\n",
    "    formation_e_actual.append(d['formation_energy_per_atom'])\n",
    "    i = i +1 "
   ]
  },
  {
   "cell_type": "code",
   "execution_count": null,
   "metadata": {},
   "outputs": [],
   "source": [
    "entries = a.query('Cd',properties = ['structure','formation_energy_per_atom'])\n",
    "for b in entries:\n",
    "    b['structure'].to(fmt='poscar',filename=str(i)+'.poscar')\n",
    "    formation_e_actual.append(b['formation_energy_per_atom'])\n",
    "    i = i +1 \n",
    "entries = a.query('Te',properties = ['structure','formation_energy_per_atom'])\n",
    "for b in entries:\n",
    "    b['structure'].to(fmt='poscar',filename=str(i)+'.poscar')\n",
    "    formation_e_actual.append(b['formation_energy_per_atom'])\n",
    "    i = i +1 "
   ]
  },
  {
   "cell_type": "markdown",
   "metadata": {},
   "source": [
    "Retreive pre-trained ML model from materialsweb"
   ]
  },
  {
   "cell_type": "code",
   "execution_count": null,
   "metadata": {},
   "outputs": [],
   "source": [
    "formation_e_predict=[]\n",
    "model=MWRester().get_KRR('Li-Ge')\n",
    "for i in range(0,10):\n",
    "    #print(i)\n",
    "    formation_e_predict.append(model.predict(MWRester().get_soap('./'+str(i)+'.poscar',fmt='poscar'))[0])"
   ]
  },
  {
   "cell_type": "code",
   "execution_count": null,
   "metadata": {},
   "outputs": [],
   "source": [
    "%matplotlib inline\n",
    "import matplotlib.pyplot as plt\n",
    "\n",
    "plt.scatter(formation_e_actual, formation_e_predict, alpha=0.3)\n",
    "plt.plot([-0.4, 0.1], [-0.4, 0.1], 'k--')\n",
    "plt.axis('equal')\n",
    "plt.show()"
   ]
  },
  {
   "cell_type": "code",
   "execution_count": null,
   "metadata": {},
   "outputs": [],
   "source": [
    "!ls\n",
    "!mkdir temp"
   ]
  },
  {
   "cell_type": "code",
   "execution_count": null,
   "metadata": {},
   "outputs": [],
   "source": []
  },
  {
   "cell_type": "code",
   "execution_count": null,
   "metadata": {},
   "outputs": [],
   "source": [
    "!cd temp\n",
    "mwr.prep_ml_formation_energy(mwr.results[-1])"
   ]
  },
  {
   "cell_type": "code",
   "execution_count": null,
   "metadata": {},
   "outputs": [],
   "source": [
    "!ls"
   ]
  },
  {
   "cell_type": "code",
   "execution_count": null,
   "metadata": {},
   "outputs": [],
   "source": [
    "!cd /home/jason/dev"
   ]
  },
  {
   "cell_type": "code",
   "execution_count": null,
   "metadata": {},
   "outputs": [],
   "source": []
  },
  {
   "cell_type": "code",
   "execution_count": null,
   "metadata": {},
   "outputs": [],
   "source": []
  },
  {
   "cell_type": "code",
   "execution_count": null,
   "metadata": {},
   "outputs": [],
   "source": []
  }
 ],
 "metadata": {
  "kernelspec": {
   "display_name": "Python 3",
   "language": "python",
   "name": "python3"
  },
  "language_info": {
   "codemirror_mode": {
    "name": "ipython",
    "version": 3
   },
   "file_extension": ".py",
   "mimetype": "text/x-python",
   "name": "python",
   "nbconvert_exporter": "python",
   "pygments_lexer": "ipython3",
   "version": "3.7.4"
  }
 },
 "nbformat": 4,
 "nbformat_minor": 2
}
