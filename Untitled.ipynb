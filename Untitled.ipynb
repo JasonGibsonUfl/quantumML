{
 "cells": [
  {
   "cell_type": "code",
   "execution_count": 1,
   "metadata": {},
   "outputs": [],
   "source": [
    "from mwinterface.rest import MWRester"
   ]
  },
  {
   "cell_type": "code",
   "execution_count": 2,
   "metadata": {},
   "outputs": [
    {
     "data": {
      "text/plain": [
       "[1.7320956495978288e-09,\n",
       " 1.7320956495978274e-09,\n",
       " 1.6814056067898388e-09,\n",
       " 1.6814056067898446e-09,\n",
       " 1.681405606789842e-09,\n",
       " 1.6814056067898408e-09]"
      ]
     },
     "execution_count": 2,
     "metadata": {},
     "output_type": "execute_result"
    }
   ],
   "source": [
    "b=MWRester().get_calculation(band_gap_range=[1,1.5], formation_energy_range=[124,150])\n",
    "c = b.as_pymatgen_struc()\n",
    "MWRester().get_symmetry_functions_g2(c[0])"
   ]
  },
  {
   "cell_type": "markdown",
   "metadata": {},
   "source": [
    "# Queries\n",
    "- **band_gap_range**  \n",
    "Range of bandgaps in *eV* as a two valued list eg. [1.2, 3.1]  \n",
    "- **Formation_energy_range**  \n",
    "Range of formation energies in *meV* as two values list eg. [50, 150]\n",
    "- **elements**  \n",
    "List of elements contained in entry eg. ['Na', 'Cl']  \n",
    "note: this will return all entries that contain Na and Cl as well as any other element \n",
    "- **space_group_number**  \n",
    "integer of space group number eg. 5\n",
    "- **dimention**  \n",
    "integer of dimension of material eg. 2\n",
    "- **crystal_system**  \n",
    "crystal system as a string eg. 'Tetragonal'  \n"
   ]
  },
  {
   "cell_type": "code",
   "execution_count": 3,
   "metadata": {},
   "outputs": [
    {
     "name": "stdout",
     "output_type": "stream",
     "text": [
      "/var/www/materialsweb/static/database/mp-13682\n",
      "Pd120S2\n",
      "0\n",
      "1\n",
      "2\n",
      "3\n",
      "4\n",
      "5\n",
      "6\n",
      "7\n"
     ]
    }
   ],
   "source": [
    "print(b.results['results'][0]['path'])\n",
    "print((b.results['results'][0]['composition'].split('/')[-2].replace('%','')))\n",
    "for index in range(0,len(b.results['results'])):\n",
    "    print(index)"
   ]
  },
  {
   "cell_type": "code",
   "execution_count": 4,
   "metadata": {},
   "outputs": [
    {
     "name": "stdout",
     "output_type": "stream",
     "text": [
      "<class 'mwinterface.rest.MWRester'>\n",
      "Pd120S2\t\t\t BandGap = 1.1746 eV\t Formation Eneergy = 148.0 meV\n",
      "Ge120Se1\t\t BandGap = 1.2107 eV\t Formation Eneergy = 133.0 meV\n",
      "Pd120Se2\t\t BandGap = 1.3964 eV\t Formation Eneergy = 166.0 meV\n",
      "I220Pt1\t\t\t BandGap = 1.4215 eV\t Formation Eneergy = 135.0 meV\n",
      "I220Pd1\t\t\t BandGap = 1.1512 eV\t Formation Eneergy = 133.0 meV\n",
      "Br320Cr1\t\t BandGap = 1.4714 eV\t Formation Eneergy = 742.0 meV\n",
      "Cr120H120O2\t\t BandGap = 1.0072 eV\t Formation Eneergy = 179.0 meV\n",
      "Mo120O3\t\t\t BandGap = 1.1381 eV\t Formation Eneergy = 136.0 meV\n"
     ]
    }
   ],
   "source": [
    "print(type(b))\n",
    "for d in b.results['results']:\n",
    "    #print(d.keys())\n",
    "    if len(d['composition'].split('/')[-2].replace('%',''))< 8:\n",
    "        print(d['composition'].split('/')[-2].replace('%','')+'\\t\\t\\t BandGap = ' + \\\n",
    "              str(round(d['band_gap'],4))+' eV\\t Formation Eneergy = ' + str(d['formation_energy'])+ ' meV')\n",
    "    elif len(d['composition'].split('/')[-2].replace('%',''))< 16:\n",
    "        print(d['composition'].split('/')[-2].replace('%','')+'\\t\\t BandGap = ' + \\\n",
    "              str(round(d['band_gap'],4))+' eV\\t Formation Eneergy = ' + str(d['formation_energy'])+ ' meV')\n",
    "    else:\n",
    "        print(d['composition'].split('/')[-2].replace('%','')+'\\t BandGap = ' + \\\n",
    "              str(round(d['band_gap'],4))+' eV\\t Formation Eneergy = ' + str(d['formation_energy'])+ ' meV')\n"
   ]
  },
  {
   "cell_type": "code",
   "execution_count": 5,
   "metadata": {},
   "outputs": [
    {
     "name": "stdout",
     "output_type": "stream",
     "text": [
      "/home/jason/dev/mwinterface/example\n",
      "<class 'mwinterface.rest.MWRester'>\n",
      "\u001b[0m\u001b[01;34mBr320Cr1\u001b[0m/     \u001b[01;34mGe120Se1\u001b[0m/  \u001b[01;34mI220Pt1\u001b[0m/  \u001b[01;34mPd120S2\u001b[0m/\n",
      "\u001b[01;34mCr120H120O2\u001b[0m/  \u001b[01;34mI220Pd1\u001b[0m/   \u001b[01;34mMo120O3\u001b[0m/  \u001b[01;34mPd120Se2\u001b[0m/\n",
      "/home/jason/dev/mwinterface\n"
     ]
    }
   ],
   "source": [
    "import os \n",
    "os.mkdir('example')\n",
    "%cd example\n",
    "print(type(b))\n",
    "b.write_all()\n",
    "%ls\n",
    "%cd .."
   ]
  },
  {
   "cell_type": "code",
   "execution_count": 6,
   "metadata": {},
   "outputs": [
    {
     "name": "stdout",
     "output_type": "stream",
     "text": [
      "/home/jason/dev\n"
     ]
    },
    {
     "data": {
      "text/plain": [
       "'/home/jason/dev'"
      ]
     },
     "execution_count": 6,
     "metadata": {},
     "output_type": "execute_result"
    }
   ],
   "source": [
    "%cd ..\n",
    "%pwd"
   ]
  },
  {
   "cell_type": "code",
   "execution_count": 7,
   "metadata": {
    "scrolled": true
   },
   "outputs": [
    {
     "name": "stdout",
     "output_type": "stream",
     "text": [
      "/home/jason/dev/mwinterface\n"
     ]
    },
    {
     "data": {
      "text/plain": [
       "'/home/jason/dev/mwinterface'"
      ]
     },
     "execution_count": 7,
     "metadata": {},
     "output_type": "execute_result"
    }
   ],
   "source": [
    "%cd ~/dev/mwinterface\n",
    "%pwd"
   ]
  },
  {
   "cell_type": "code",
   "execution_count": null,
   "metadata": {},
   "outputs": [],
   "source": []
  }
 ],
 "metadata": {
  "kernelspec": {
   "display_name": "Python 3",
   "language": "python",
   "name": "python3"
  },
  "language_info": {
   "codemirror_mode": {
    "name": "ipython",
    "version": 3
   },
   "file_extension": ".py",
   "mimetype": "text/x-python",
   "name": "python",
   "nbconvert_exporter": "python",
   "pygments_lexer": "ipython3",
   "version": "3.7.4"
  }
 },
 "nbformat": 4,
 "nbformat_minor": 2
}
